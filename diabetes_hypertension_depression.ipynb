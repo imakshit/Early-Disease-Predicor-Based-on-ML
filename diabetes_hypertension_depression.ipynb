{
  "nbformat": 4,
  "nbformat_minor": 0,
  "metadata": {
    "colab": {
      "name": "diabetes_hypertension_depression.ipynb",
      "provenance": [],
      "toc_visible": true,
      "authorship_tag": "ABX9TyOdfinnEXNLG4X1leNT+HFh",
      "include_colab_link": true
    },
    "kernelspec": {
      "name": "python3",
      "display_name": "Python 3"
    }
  },
  "cells": [
    {
      "cell_type": "markdown",
      "metadata": {
        "id": "view-in-github",
        "colab_type": "text"
      },
      "source": [
        "<a href=\"https://colab.research.google.com/github/imakshit/Major-Project/blob/master/diabetes_hypertension_depression.ipynb\" target=\"_parent\"><img src=\"https://colab.research.google.com/assets/colab-badge.svg\" alt=\"Open In Colab\"/></a>"
      ]
    },
    {
      "cell_type": "code",
      "metadata": {
        "id": "DLUOh9Spe_al",
        "colab_type": "code",
        "colab": {}
      },
      "source": [
        "import numpy as np\n",
        "import pandas as pd"
      ],
      "execution_count": 0,
      "outputs": []
    },
    {
      "cell_type": "code",
      "metadata": {
        "id": "E1kEE4fVfaAF",
        "colab_type": "code",
        "colab": {}
      },
      "source": [
        "df = pd.read_csv('/content/d_sih.csv')"
      ],
      "execution_count": 0,
      "outputs": []
    },
    {
      "cell_type": "code",
      "metadata": {
        "id": "s-em-ZvyfasI",
        "colab_type": "code",
        "outputId": "225ebe72-72ac-4faf-da51-1357a2ac100e",
        "colab": {
          "base_uri": "https://localhost:8080/",
          "height": 419
        }
      },
      "source": [
        "df"
      ],
      "execution_count": 297,
      "outputs": [
        {
          "output_type": "execute_result",
          "data": {
            "text/html": [
              "<div>\n",
              "<style scoped>\n",
              "    .dataframe tbody tr th:only-of-type {\n",
              "        vertical-align: middle;\n",
              "    }\n",
              "\n",
              "    .dataframe tbody tr th {\n",
              "        vertical-align: top;\n",
              "    }\n",
              "\n",
              "    .dataframe thead th {\n",
              "        text-align: right;\n",
              "    }\n",
              "</style>\n",
              "<table border=\"1\" class=\"dataframe\">\n",
              "  <thead>\n",
              "    <tr style=\"text-align: right;\">\n",
              "      <th></th>\n",
              "      <th>Age</th>\n",
              "      <th>Bmi</th>\n",
              "      <th>Drinking</th>\n",
              "      <th>Excercise</th>\n",
              "      <th>Gender</th>\n",
              "      <th>Junk</th>\n",
              "      <th>Sleep</th>\n",
              "      <th>Smoking</th>\n",
              "      <th>Diabetes</th>\n",
              "      <th>Hypertension</th>\n",
              "      <th>Depression</th>\n",
              "      <th>output</th>\n",
              "    </tr>\n",
              "  </thead>\n",
              "  <tbody>\n",
              "    <tr>\n",
              "      <th>0</th>\n",
              "      <td>46</td>\n",
              "      <td>15</td>\n",
              "      <td>1</td>\n",
              "      <td>1</td>\n",
              "      <td>1</td>\n",
              "      <td>2</td>\n",
              "      <td>1</td>\n",
              "      <td>0</td>\n",
              "      <td>88.12</td>\n",
              "      <td>77.05</td>\n",
              "      <td>44.04</td>\n",
              "      <td>2</td>\n",
              "    </tr>\n",
              "    <tr>\n",
              "      <th>1</th>\n",
              "      <td>8</td>\n",
              "      <td>34</td>\n",
              "      <td>1</td>\n",
              "      <td>2</td>\n",
              "      <td>0</td>\n",
              "      <td>1</td>\n",
              "      <td>2</td>\n",
              "      <td>0</td>\n",
              "      <td>21.26</td>\n",
              "      <td>45.60</td>\n",
              "      <td>5.35</td>\n",
              "      <td>3</td>\n",
              "    </tr>\n",
              "    <tr>\n",
              "      <th>2</th>\n",
              "      <td>63</td>\n",
              "      <td>15</td>\n",
              "      <td>0</td>\n",
              "      <td>3</td>\n",
              "      <td>0</td>\n",
              "      <td>3</td>\n",
              "      <td>1</td>\n",
              "      <td>0</td>\n",
              "      <td>56.64</td>\n",
              "      <td>37.70</td>\n",
              "      <td>49.00</td>\n",
              "      <td>2</td>\n",
              "    </tr>\n",
              "    <tr>\n",
              "      <th>3</th>\n",
              "      <td>42</td>\n",
              "      <td>32</td>\n",
              "      <td>0</td>\n",
              "      <td>2</td>\n",
              "      <td>0</td>\n",
              "      <td>2</td>\n",
              "      <td>2</td>\n",
              "      <td>1</td>\n",
              "      <td>42.72</td>\n",
              "      <td>47.40</td>\n",
              "      <td>52.10</td>\n",
              "      <td>1</td>\n",
              "    </tr>\n",
              "    <tr>\n",
              "      <th>4</th>\n",
              "      <td>45</td>\n",
              "      <td>30</td>\n",
              "      <td>0</td>\n",
              "      <td>2</td>\n",
              "      <td>1</td>\n",
              "      <td>1</td>\n",
              "      <td>1</td>\n",
              "      <td>1</td>\n",
              "      <td>44.76</td>\n",
              "      <td>20.06</td>\n",
              "      <td>38.68</td>\n",
              "      <td>2</td>\n",
              "    </tr>\n",
              "    <tr>\n",
              "      <th>...</th>\n",
              "      <td>...</td>\n",
              "      <td>...</td>\n",
              "      <td>...</td>\n",
              "      <td>...</td>\n",
              "      <td>...</td>\n",
              "      <td>...</td>\n",
              "      <td>...</td>\n",
              "      <td>...</td>\n",
              "      <td>...</td>\n",
              "      <td>...</td>\n",
              "      <td>...</td>\n",
              "      <td>...</td>\n",
              "    </tr>\n",
              "    <tr>\n",
              "      <th>991</th>\n",
              "      <td>11</td>\n",
              "      <td>21</td>\n",
              "      <td>0</td>\n",
              "      <td>2</td>\n",
              "      <td>1</td>\n",
              "      <td>3</td>\n",
              "      <td>3</td>\n",
              "      <td>0</td>\n",
              "      <td>5.00</td>\n",
              "      <td>5.00</td>\n",
              "      <td>5.00</td>\n",
              "      <td>1</td>\n",
              "    </tr>\n",
              "    <tr>\n",
              "      <th>992</th>\n",
              "      <td>86</td>\n",
              "      <td>35</td>\n",
              "      <td>0</td>\n",
              "      <td>2</td>\n",
              "      <td>0</td>\n",
              "      <td>3</td>\n",
              "      <td>3</td>\n",
              "      <td>0</td>\n",
              "      <td>43.34</td>\n",
              "      <td>56.72</td>\n",
              "      <td>64.10</td>\n",
              "      <td>1</td>\n",
              "    </tr>\n",
              "    <tr>\n",
              "      <th>993</th>\n",
              "      <td>84</td>\n",
              "      <td>24</td>\n",
              "      <td>1</td>\n",
              "      <td>1</td>\n",
              "      <td>0</td>\n",
              "      <td>2</td>\n",
              "      <td>2</td>\n",
              "      <td>1</td>\n",
              "      <td>50.76</td>\n",
              "      <td>99.10</td>\n",
              "      <td>41.25</td>\n",
              "      <td>3</td>\n",
              "    </tr>\n",
              "    <tr>\n",
              "      <th>994</th>\n",
              "      <td>88</td>\n",
              "      <td>21</td>\n",
              "      <td>1</td>\n",
              "      <td>3</td>\n",
              "      <td>0</td>\n",
              "      <td>1</td>\n",
              "      <td>2</td>\n",
              "      <td>1</td>\n",
              "      <td>19.16</td>\n",
              "      <td>74.60</td>\n",
              "      <td>41.25</td>\n",
              "      <td>3</td>\n",
              "    </tr>\n",
              "    <tr>\n",
              "      <th>995</th>\n",
              "      <td>33</td>\n",
              "      <td>29</td>\n",
              "      <td>0</td>\n",
              "      <td>2</td>\n",
              "      <td>0</td>\n",
              "      <td>3</td>\n",
              "      <td>1</td>\n",
              "      <td>1</td>\n",
              "      <td>60.54</td>\n",
              "      <td>58.00</td>\n",
              "      <td>90.40</td>\n",
              "      <td>1</td>\n",
              "    </tr>\n",
              "  </tbody>\n",
              "</table>\n",
              "<p>996 rows × 12 columns</p>\n",
              "</div>"
            ],
            "text/plain": [
              "     Age  Bmi  Drinking  Excercise  ...  Diabetes  Hypertension  Depression  output\n",
              "0     46   15         1          1  ...     88.12         77.05       44.04       2\n",
              "1      8   34         1          2  ...     21.26         45.60        5.35       3\n",
              "2     63   15         0          3  ...     56.64         37.70       49.00       2\n",
              "3     42   32         0          2  ...     42.72         47.40       52.10       1\n",
              "4     45   30         0          2  ...     44.76         20.06       38.68       2\n",
              "..   ...  ...       ...        ...  ...       ...           ...         ...     ...\n",
              "991   11   21         0          2  ...      5.00          5.00        5.00       1\n",
              "992   86   35         0          2  ...     43.34         56.72       64.10       1\n",
              "993   84   24         1          1  ...     50.76         99.10       41.25       3\n",
              "994   88   21         1          3  ...     19.16         74.60       41.25       3\n",
              "995   33   29         0          2  ...     60.54         58.00       90.40       1\n",
              "\n",
              "[996 rows x 12 columns]"
            ]
          },
          "metadata": {
            "tags": []
          },
          "execution_count": 297
        }
      ]
    },
    {
      "cell_type": "code",
      "metadata": {
        "id": "R1WjPd47fbbw",
        "colab_type": "code",
        "outputId": "6004ce5a-d4cd-4603-ff47-5583a703bf5b",
        "colab": {
          "base_uri": "https://localhost:8080/",
          "height": 34
        }
      },
      "source": [
        "df.shape"
      ],
      "execution_count": 298,
      "outputs": [
        {
          "output_type": "execute_result",
          "data": {
            "text/plain": [
              "(996, 12)"
            ]
          },
          "metadata": {
            "tags": []
          },
          "execution_count": 298
        }
      ]
    },
    {
      "cell_type": "code",
      "metadata": {
        "id": "QbKJTm3afe2c",
        "colab_type": "code",
        "outputId": "57bccb1c-5973-49b0-eb57-2ec7e57e8491",
        "colab": {
          "base_uri": "https://localhost:8080/",
          "height": 34
        }
      },
      "source": [
        "df.size"
      ],
      "execution_count": 299,
      "outputs": [
        {
          "output_type": "execute_result",
          "data": {
            "text/plain": [
              "11952"
            ]
          },
          "metadata": {
            "tags": []
          },
          "execution_count": 299
        }
      ]
    },
    {
      "cell_type": "code",
      "metadata": {
        "id": "PGbQ0isMfhYL",
        "colab_type": "code",
        "outputId": "b4910dfb-c692-474a-fe35-b7e679e13379",
        "colab": {
          "base_uri": "https://localhost:8080/",
          "height": 238
        }
      },
      "source": [
        "df.isnull().sum()"
      ],
      "execution_count": 300,
      "outputs": [
        {
          "output_type": "execute_result",
          "data": {
            "text/plain": [
              "Age             0\n",
              "Bmi             0\n",
              "Drinking        0\n",
              "Excercise       0\n",
              "Gender          0\n",
              "Junk            0\n",
              "Sleep           0\n",
              "Smoking         0\n",
              "Diabetes        0\n",
              "Hypertension    0\n",
              "Depression      0\n",
              "output          0\n",
              "dtype: int64"
            ]
          },
          "metadata": {
            "tags": []
          },
          "execution_count": 300
        }
      ]
    },
    {
      "cell_type": "markdown",
      "metadata": {
        "id": "nSNZSV8JBhvb",
        "colab_type": "text"
      },
      "source": [
        "#DATA VISUALIZATION"
      ]
    },
    {
      "cell_type": "code",
      "metadata": {
        "id": "HZrylc6LDE8N",
        "colab_type": "code",
        "colab": {}
      },
      "source": [
        "dff = df.head(20)\n",
        "out = dff.iloc[:,11:12].values"
      ],
      "execution_count": 0,
      "outputs": []
    },
    {
      "cell_type": "code",
      "metadata": {
        "id": "jGXXodArQ_lR",
        "colab_type": "code",
        "colab": {
          "base_uri": "https://localhost:8080/",
          "height": 357
        },
        "outputId": "1064d310-3db3-4769-f9b8-12dfcc73b380"
      },
      "source": [
        "out"
      ],
      "execution_count": 302,
      "outputs": [
        {
          "output_type": "execute_result",
          "data": {
            "text/plain": [
              "array([[2],\n",
              "       [3],\n",
              "       [2],\n",
              "       [1],\n",
              "       [2],\n",
              "       [1],\n",
              "       [1],\n",
              "       [3],\n",
              "       [3],\n",
              "       [3],\n",
              "       [3],\n",
              "       [1],\n",
              "       [2],\n",
              "       [1],\n",
              "       [3],\n",
              "       [2],\n",
              "       [2],\n",
              "       [1],\n",
              "       [1],\n",
              "       [2]])"
            ]
          },
          "metadata": {
            "tags": []
          },
          "execution_count": 302
        }
      ]
    },
    {
      "cell_type": "code",
      "metadata": {
        "id": "MC8rxw32Qy9k",
        "colab_type": "code",
        "colab": {}
      },
      "source": [
        "import matplotlib.pyplot as plt \n",
        "import seaborn as sns"
      ],
      "execution_count": 0,
      "outputs": []
    },
    {
      "cell_type": "code",
      "metadata": {
        "id": "fOdjXNYqKR-d",
        "colab_type": "code",
        "colab": {
          "base_uri": "https://localhost:8080/",
          "height": 385
        },
        "outputId": "2d714253-ad8d-4a6d-80da-64cccfb62b26"
      },
      "source": [
        "# Countplot \n",
        "ax = sns.catplot(x =\"Gender\", hue =\"output\",  \n",
        "kind =\"count\", data = df , legend = False)\n",
        "\n",
        "# giving labels to x-axis and y-axis \n",
        "ax.set(xlabel ='GENDER', ylabel ='COUNT' ) \n",
        "\n",
        "plt.legend(labels=['DIABETES', 'HYPERTENSION' , 'DEPRESSION'])\n",
        "  \n",
        "# giving title to the plot \n",
        "plt.title('GENDER VS DISEASE'); "
      ],
      "execution_count": 304,
      "outputs": [
        {
          "output_type": "display_data",
          "data": {
            "image/png": "[encoded data removed]",
            "text/plain": [
              "<Figure size 360x360 with 1 Axes>"
            ]
          },
          "metadata": {
            "tags": []
          }
        }
      ]
    },
    {
      "cell_type": "markdown",
      "metadata": {
        "id": "M2MapBfER-U8",
        "colab_type": "text"
      },
      "source": [
        "#CONCLUSION\n",
        "\n",
        "1. Males have higher chances of _Diabetes_ and _Depression_\n",
        "2. Females have higher chances of _Diabetes_ and _Depression_\n"
      ]
    },
    {
      "cell_type": "code",
      "metadata": {
        "id": "1r-SM9TKK3sD",
        "colab_type": "code",
        "colab": {
          "base_uri": "https://localhost:8080/",
          "height": 385
        },
        "outputId": "5ae3dbc2-fb9d-4eac-9a0e-4b91941f96b7"
      },
      "source": [
        "# Countplot \n",
        "ax = sns.catplot(x =\"Drinking\", hue =\"output\",  \n",
        "kind =\"count\", data = df , legend = False)\n",
        "\n",
        "# giving labels to x-axis and y-axis \n",
        "ax.set(xlabel ='DRINKING', ylabel ='COUNT') \n",
        "\n",
        "plt.legend( loc='upper right', labels=['DIABETES', 'HYPERTENSION' , 'DEPRESSION'])\n",
        "  \n",
        "# giving title to the plot \n",
        "plt.title('DRINKING VS DISEASE'); "
      ],
      "execution_count": 305,
      "outputs": [
        {
          "output_type": "display_data",
          "data": {
            "image/png": "[encoded data removed]",
            "text/plain": [
              "<Figure size 360x360 with 1 Axes>"
            ]
          },
          "metadata": {
            "tags": []
          }
        }
      ]
    },
    {
      "cell_type": "markdown",
      "metadata": {
        "id": "5S2UtIUHP5Jy",
        "colab_type": "text"
      },
      "source": [
        "#CONCLUSION\n",
        "\n",
        "1. person who do not drink have a higher chance of _Diabetes_\n",
        "2. person who drink have a higher chance of _Depression_\n",
        "\n"
      ]
    },
    {
      "cell_type": "code",
      "metadata": {
        "id": "uVBxVnbwK3jU",
        "colab_type": "code",
        "colab": {
          "base_uri": "https://localhost:8080/",
          "height": 385
        },
        "outputId": "b94deb21-2648-46fb-ef5c-2e70c24dcd7f"
      },
      "source": [
        "# Countplot \n",
        "ax = sns.catplot(x =\"Excercise\", hue =\"output\",  \n",
        "kind =\"count\", data = df , legend = False)\n",
        "\n",
        "# giving labels to x-axis and y-axis \n",
        "ax.set(xlabel ='EXERCISE', ylabel ='COUNT') \n",
        "\n",
        "plt.legend( loc='upper right', labels=['DIABETES', 'HYPERTENSION' , 'DEPRESSION'])\n",
        "  \n",
        "# giving title to the plot \n",
        "plt.title('EXERCISE VS DISEASE'); "
      ],
      "execution_count": 306,
      "outputs": [
        {
          "output_type": "display_data",
          "data": {
            "image/png": "[encoded data removed]",
            "text/plain": [
              "<Figure size 360x360 with 1 Axes>"
            ]
          },
          "metadata": {
            "tags": []
          }
        }
      ]
    },
    {
      "cell_type": "markdown",
      "metadata": {
        "id": "bhlTE_OKPeAS",
        "colab_type": "text"
      },
      "source": [
        "#CONCLUSION\n",
        "\n",
        "person who exercise - \n",
        "1. once a week have higher chance of _Diabetes_\n",
        "2. twice a week have higher chance of _Diabetes_ and _Depression_\n",
        "3. thrice a week have higher chance of _Diabetes_ and _Depression_"
      ]
    },
    {
      "cell_type": "code",
      "metadata": {
        "id": "sjD5QnHoOaR9",
        "colab_type": "code",
        "colab": {
          "base_uri": "https://localhost:8080/",
          "height": 385
        },
        "outputId": "b9960473-f158-49a4-b32c-1518c42acb61"
      },
      "source": [
        "# Countplot \n",
        "ax = sns.catplot(x =\"Smoking\", hue =\"output\",  \n",
        "kind =\"count\", data = df , legend = False)\n",
        "\n",
        "# giving labels to x-axis and y-axis \n",
        "ax.set(xlabel ='SMOKING', ylabel ='COUNT') \n",
        "\n",
        "plt.legend( loc='upper right', labels=['DIABETES', 'HYPERTENSION' , 'DEPRESSION'])\n",
        "  \n",
        "# giving title to the plot \n",
        "plt.title('SMOKING VS DISEASE'); "
      ],
      "execution_count": 307,
      "outputs": [
        {
          "output_type": "display_data",
          "data": {
            "image/png": "[encoded data removed]",
            "text/plain": [
              "<Figure size 360x360 with 1 Axes>"
            ]
          },
          "metadata": {
            "tags": []
          }
        }
      ]
    },
    {
      "cell_type": "markdown",
      "metadata": {
        "id": "RLG1hestOqrm",
        "colab_type": "text"
      },
      "source": [
        "#CONCLUSION\n",
        "\n",
        "1. person who smoke have a higher chance of _Diabetes_ \n",
        "2. person who do not smoke have a higher chance of _Diabetes_"
      ]
    },
    {
      "cell_type": "markdown",
      "metadata": {
        "id": "h5GGuW_rgMgL",
        "colab_type": "text"
      },
      "source": [
        "#DATA PREPROCESSING"
      ]
    },
    {
      "cell_type": "code",
      "metadata": {
        "id": "2rIEdfKigGZG",
        "colab_type": "code",
        "colab": {}
      },
      "source": [
        "X = df.iloc[:, 0:8].values\n",
        "y = df.iloc[:, 8:11].values"
      ],
      "execution_count": 0,
      "outputs": []
    },
    {
      "cell_type": "code",
      "metadata": {
        "id": "wTtjRjQzA6J4",
        "colab_type": "code",
        "colab": {
          "base_uri": "https://localhost:8080/",
          "height": 136
        },
        "outputId": "c3f202fb-642c-43cd-dadd-20a76227ba1a"
      },
      "source": [
        "X"
      ],
      "execution_count": 309,
      "outputs": [
        {
          "output_type": "execute_result",
          "data": {
            "text/plain": [
              "array([[46, 15,  1, ...,  2,  1,  0],\n",
              "       [ 8, 34,  1, ...,  1,  2,  0],\n",
              "       [63, 15,  0, ...,  3,  1,  0],\n",
              "       ...,\n",
              "       [84, 24,  1, ...,  2,  2,  1],\n",
              "       [88, 21,  1, ...,  1,  2,  1],\n",
              "       [33, 29,  0, ...,  3,  1,  1]])"
            ]
          },
          "metadata": {
            "tags": []
          },
          "execution_count": 309
        }
      ]
    },
    {
      "cell_type": "code",
      "metadata": {
        "id": "MtnX9L-jA8AJ",
        "colab_type": "code",
        "colab": {
          "base_uri": "https://localhost:8080/",
          "height": 136
        },
        "outputId": "54f6b976-bad5-4e36-f09c-04f793df43ec"
      },
      "source": [
        "y"
      ],
      "execution_count": 310,
      "outputs": [
        {
          "output_type": "execute_result",
          "data": {
            "text/plain": [
              "array([[88.12, 77.05, 44.04],\n",
              "       [21.26, 45.6 ,  5.35],\n",
              "       [56.64, 37.7 , 49.  ],\n",
              "       ...,\n",
              "       [50.76, 99.1 , 41.25],\n",
              "       [19.16, 74.6 , 41.25],\n",
              "       [60.54, 58.  , 90.4 ]])"
            ]
          },
          "metadata": {
            "tags": []
          },
          "execution_count": 310
        }
      ]
    },
    {
      "cell_type": "code",
      "metadata": {
        "id": "zArzuGF0gRNG",
        "colab_type": "code",
        "colab": {}
      },
      "source": [
        "from sklearn.model_selection import train_test_split\n",
        "X_train, X_test, y_train, y_test = train_test_split(X, y, test_size = 0.2, random_state = 0)"
      ],
      "execution_count": 0,
      "outputs": []
    },
    {
      "cell_type": "code",
      "metadata": {
        "id": "NF35V0tBgYm2",
        "colab_type": "code",
        "colab": {}
      },
      "source": [
        "from sklearn.preprocessing import StandardScaler as ss\n",
        "sc = ss()\n",
        "X_train = sc.fit_transform(X_train)\n",
        "X_test = sc.transform(X_test)"
      ],
      "execution_count": 0,
      "outputs": []
    },
    {
      "cell_type": "markdown",
      "metadata": {
        "id": "-_gzHXxbgepb",
        "colab_type": "text"
      },
      "source": [
        "#MODELS"
      ]
    },
    {
      "cell_type": "markdown",
      "metadata": {
        "id": "i-N6BublgjZx",
        "colab_type": "text"
      },
      "source": [
        "**REGRESSION**"
      ]
    },
    {
      "cell_type": "markdown",
      "metadata": {
        "id": "itGOFGO5iKXG",
        "colab_type": "text"
      },
      "source": [
        "RANDOM FOREST REGRESSOR"
      ]
    },
    {
      "cell_type": "code",
      "metadata": {
        "id": "dHWNCq1MgdMf",
        "colab_type": "code",
        "outputId": "d74028b4-a9f2-4f6b-ec72-00d0239f8549",
        "colab": {
          "base_uri": "https://localhost:8080/",
          "height": 136
        }
      },
      "source": [
        "from sklearn.ensemble import RandomForestRegressor\n",
        "classifier= RandomForestRegressor(n_estimators = 300, random_state = 0)\n",
        "classifier.fit(X_train,y_train)"
      ],
      "execution_count": 313,
      "outputs": [
        {
          "output_type": "execute_result",
          "data": {
            "text/plain": [
              "RandomForestRegressor(bootstrap=True, ccp_alpha=0.0, criterion='mse',\n",
              "                      max_depth=None, max_features='auto', max_leaf_nodes=None,\n",
              "                      max_samples=None, min_impurity_decrease=0.0,\n",
              "                      min_impurity_split=None, min_samples_leaf=1,\n",
              "                      min_samples_split=2, min_weight_fraction_leaf=0.0,\n",
              "                      n_estimators=300, n_jobs=None, oob_score=False,\n",
              "                      random_state=0, verbose=0, warm_start=False)"
            ]
          },
          "metadata": {
            "tags": []
          },
          "execution_count": 313
        }
      ]
    },
    {
      "cell_type": "code",
      "metadata": {
        "id": "sdlpX1IJAszM",
        "colab_type": "code",
        "colab": {}
      },
      "source": [
        "y_pred = classifier.predict(X_test)"
      ],
      "execution_count": 0,
      "outputs": []
    },
    {
      "cell_type": "code",
      "metadata": {
        "id": "h2BmdCI7rl6x",
        "colab_type": "code",
        "outputId": "11f3e318-3bb5-4fd1-f78f-2b2d82c03aac",
        "colab": {
          "base_uri": "https://localhost:8080/",
          "height": 88
        }
      },
      "source": [
        "#accuracy on test data\n",
        "classifier.score(X_test , y_test)"
      ],
      "execution_count": 315,
      "outputs": [
        {
          "output_type": "stream",
          "text": [
            "/usr/local/lib/python3.6/dist-packages/sklearn/base.py:434: FutureWarning: The default value of multioutput (not exposed in score method) will change from 'variance_weighted' to 'uniform_average' in 0.23 to keep consistent with 'metrics.r2_score'. To specify the default value manually and avoid the warning, please either call 'metrics.r2_score' directly or make a custom scorer with 'metrics.make_scorer' (the built-in scorer 'r2' uses multioutput='uniform_average').\n",
            "  \"multioutput='uniform_average').\", FutureWarning)\n"
          ],
          "name": "stderr"
        },
        {
          "output_type": "execute_result",
          "data": {
            "text/plain": [
              "0.8719862356696435"
            ]
          },
          "metadata": {
            "tags": []
          },
          "execution_count": 315
        }
      ]
    },
    {
      "cell_type": "code",
      "metadata": {
        "id": "9Qf3Hrw3mLyt",
        "colab_type": "code",
        "outputId": "79c75169-51c8-4031-e5fd-fbb6a33b32b8",
        "colab": {
          "base_uri": "https://localhost:8080/",
          "height": 88
        }
      },
      "source": [
        "#accuracy on train data\n",
        "classifier.score(X_train,y_train)"
      ],
      "execution_count": 316,
      "outputs": [
        {
          "output_type": "stream",
          "text": [
            "/usr/local/lib/python3.6/dist-packages/sklearn/base.py:434: FutureWarning: The default value of multioutput (not exposed in score method) will change from 'variance_weighted' to 'uniform_average' in 0.23 to keep consistent with 'metrics.r2_score'. To specify the default value manually and avoid the warning, please either call 'metrics.r2_score' directly or make a custom scorer with 'metrics.make_scorer' (the built-in scorer 'r2' uses multioutput='uniform_average').\n",
            "  \"multioutput='uniform_average').\", FutureWarning)\n"
          ],
          "name": "stderr"
        },
        {
          "output_type": "execute_result",
          "data": {
            "text/plain": [
              "0.9850118254098408"
            ]
          },
          "metadata": {
            "tags": []
          },
          "execution_count": 316
        }
      ]
    },
    {
      "cell_type": "markdown",
      "metadata": {
        "id": "c0cv5Rn7iQDS",
        "colab_type": "text"
      },
      "source": [
        "DECISION TREE REGRESSOR"
      ]
    },
    {
      "cell_type": "code",
      "metadata": {
        "id": "KQvUA3rdh0ee",
        "colab_type": "code",
        "colab": {}
      },
      "source": [
        "from sklearn.tree import DecisionTreeRegressor\n",
        "regressor = DecisionTreeRegressor(random_state = 0)\n",
        "regressor.fit(X_train, y_train)\n",
        "y_pred = regressor.predict(X_test)\n"
      ],
      "execution_count": 0,
      "outputs": []
    },
    {
      "cell_type": "code",
      "metadata": {
        "id": "YDZPTfI6sBNC",
        "colab_type": "code",
        "outputId": "f24f4de1-e20d-4e53-ab89-99d976872db0",
        "colab": {
          "base_uri": "https://localhost:8080/",
          "height": 88
        }
      },
      "source": [
        "#accuracy on test data\n",
        "regressor.score(X_test,y_test)"
      ],
      "execution_count": 318,
      "outputs": [
        {
          "output_type": "stream",
          "text": [
            "/usr/local/lib/python3.6/dist-packages/sklearn/base.py:434: FutureWarning: The default value of multioutput (not exposed in score method) will change from 'variance_weighted' to 'uniform_average' in 0.23 to keep consistent with 'metrics.r2_score'. To specify the default value manually and avoid the warning, please either call 'metrics.r2_score' directly or make a custom scorer with 'metrics.make_scorer' (the built-in scorer 'r2' uses multioutput='uniform_average').\n",
            "  \"multioutput='uniform_average').\", FutureWarning)\n"
          ],
          "name": "stderr"
        },
        {
          "output_type": "execute_result",
          "data": {
            "text/plain": [
              "0.7627213037221848"
            ]
          },
          "metadata": {
            "tags": []
          },
          "execution_count": 318
        }
      ]
    },
    {
      "cell_type": "code",
      "metadata": {
        "id": "DEX1vBUWpETd",
        "colab_type": "code",
        "outputId": "befdb376-5a67-4b95-9ee4-6391987069fb",
        "colab": {
          "base_uri": "https://localhost:8080/",
          "height": 88
        }
      },
      "source": [
        "#accuracy on train data\n",
        "regressor.score(X_train,y_train)"
      ],
      "execution_count": 319,
      "outputs": [
        {
          "output_type": "stream",
          "text": [
            "/usr/local/lib/python3.6/dist-packages/sklearn/base.py:434: FutureWarning: The default value of multioutput (not exposed in score method) will change from 'variance_weighted' to 'uniform_average' in 0.23 to keep consistent with 'metrics.r2_score'. To specify the default value manually and avoid the warning, please either call 'metrics.r2_score' directly or make a custom scorer with 'metrics.make_scorer' (the built-in scorer 'r2' uses multioutput='uniform_average').\n",
            "  \"multioutput='uniform_average').\", FutureWarning)\n"
          ],
          "name": "stderr"
        },
        {
          "output_type": "execute_result",
          "data": {
            "text/plain": [
              "1.0"
            ]
          },
          "metadata": {
            "tags": []
          },
          "execution_count": 319
        }
      ]
    },
    {
      "cell_type": "markdown",
      "metadata": {
        "id": "hC8qmBTwiarW",
        "colab_type": "text"
      },
      "source": [
        "LINEAR REGRESSOR"
      ]
    },
    {
      "cell_type": "code",
      "metadata": {
        "id": "4nX_aTLXiVvS",
        "colab_type": "code",
        "outputId": "ff6f0578-a28f-4c7e-f19b-6c1af5af9c0e",
        "colab": {
          "base_uri": "https://localhost:8080/",
          "height": 34
        }
      },
      "source": [
        "from sklearn.linear_model import LinearRegression\n",
        "regressors = LinearRegression()\n",
        "regressors.fit(X_train, y_train)\n"
      ],
      "execution_count": 320,
      "outputs": [
        {
          "output_type": "execute_result",
          "data": {
            "text/plain": [
              "LinearRegression(copy_X=True, fit_intercept=True, n_jobs=None, normalize=False)"
            ]
          },
          "metadata": {
            "tags": []
          },
          "execution_count": 320
        }
      ]
    },
    {
      "cell_type": "code",
      "metadata": {
        "id": "GzwfUKcWUqF2",
        "colab_type": "code",
        "colab": {}
      },
      "source": [
        "y_pred = regressors.predict(X_test)"
      ],
      "execution_count": 0,
      "outputs": []
    },
    {
      "cell_type": "code",
      "metadata": {
        "id": "kdBNOQzAsMrl",
        "colab_type": "code",
        "outputId": "c5a555ff-bff6-4ef6-ffbe-66336a08c269",
        "colab": {
          "base_uri": "https://localhost:8080/",
          "height": 88
        }
      },
      "source": [
        "#accuracy on test data\n",
        "regressors.score(X_test,y_test)"
      ],
      "execution_count": 322,
      "outputs": [
        {
          "output_type": "stream",
          "text": [
            "/usr/local/lib/python3.6/dist-packages/sklearn/base.py:434: FutureWarning: The default value of multioutput (not exposed in score method) will change from 'variance_weighted' to 'uniform_average' in 0.23 to keep consistent with 'metrics.r2_score'. To specify the default value manually and avoid the warning, please either call 'metrics.r2_score' directly or make a custom scorer with 'metrics.make_scorer' (the built-in scorer 'r2' uses multioutput='uniform_average').\n",
            "  \"multioutput='uniform_average').\", FutureWarning)\n"
          ],
          "name": "stderr"
        },
        {
          "output_type": "execute_result",
          "data": {
            "text/plain": [
              "0.5622468901441744"
            ]
          },
          "metadata": {
            "tags": []
          },
          "execution_count": 322
        }
      ]
    },
    {
      "cell_type": "code",
      "metadata": {
        "id": "lfVl6gbipQzV",
        "colab_type": "code",
        "outputId": "816dc176-40c8-4241-aa10-8fa5da2d450b",
        "colab": {
          "base_uri": "https://localhost:8080/",
          "height": 88
        }
      },
      "source": [
        "#accuracy in train data\n",
        "regressors.score(X_train,y_train)\n"
      ],
      "execution_count": 323,
      "outputs": [
        {
          "output_type": "stream",
          "text": [
            "/usr/local/lib/python3.6/dist-packages/sklearn/base.py:434: FutureWarning: The default value of multioutput (not exposed in score method) will change from 'variance_weighted' to 'uniform_average' in 0.23 to keep consistent with 'metrics.r2_score'. To specify the default value manually and avoid the warning, please either call 'metrics.r2_score' directly or make a custom scorer with 'metrics.make_scorer' (the built-in scorer 'r2' uses multioutput='uniform_average').\n",
            "  \"multioutput='uniform_average').\", FutureWarning)\n"
          ],
          "name": "stderr"
        },
        {
          "output_type": "execute_result",
          "data": {
            "text/plain": [
              "0.5116813654442292"
            ]
          },
          "metadata": {
            "tags": []
          },
          "execution_count": 323
        }
      ]
    },
    {
      "cell_type": "code",
      "metadata": {
        "id": "Sh4PqBKvkVvY",
        "colab_type": "code",
        "colab": {}
      },
      "source": [
        ""
      ],
      "execution_count": 0,
      "outputs": []
    },
    {
      "cell_type": "markdown",
      "metadata": {
        "id": "vEyAVEtIu88O",
        "colab_type": "text"
      },
      "source": [
        "#score function explaination\n",
        "\n",
        "\n",
        "1. you train one model logreg.train(Xtrain,Ytrain)\n",
        "\n",
        "2. the resulting model does not explain the training data 100% well (that would probably be overfitting).\n",
        "\n",
        "3. if you use now the Xtrain to make predictions you will not get exactly Ytrain, but Ytrain', different somehow Ytrain' = logreg.predict(X_train)\n",
        "\n",
        "logreg.score(Xtrain,Ytrain) is calculating the difference between Ytrain and Ytrain' (an accuracy measure), but you did not need to explicitly calculate Y_train'. The library does this internally.\n",
        "\n",
        "If you try this (once the model trained with the train data):\n",
        "\n",
        "    Y_pred = logreg.predict(X_test)\n",
        "\n",
        "    logreg.score(X_test,Y_pred)\n",
        "this score will always give 1.0\n",
        "\n",
        "(because it compares Ypred' (which the library calculates internally as Ypred'= logreg.predict(Xtest) ) with Ypred; but Ypred is also logreg.predict(Xtest), because the code we wrote)\n",
        "\n",
        "if Ytest is the real labels for Xtest\n",
        "\n",
        "    logreg.score(X_test, Y_test) \n",
        "is comparing the predictions of the model against the real labels.\n",
        "\n",
        "In other words:\n",
        "\n",
        "A. predictor.score(X,Y) internally calculates Y'=predictor.predict(X) and then compares Y' against Y to give an accuracy measure. This applies not only to logistic regression but to any other model.\n",
        "\n",
        "B. logreg.score(Xtrain,Ytrain) is measuring the accuracy of the model against the training data. (How well the model explains the data it was trained with). <-- But note that this has nothing to do with test data.\n",
        "\n",
        "C. logreg.score(Xtest, Ytest) is equivalent to your print(classificationreport(Ytest, Ypred)). But you do not need to calculate Ypred; that is done internally by the library"
      ]
    },
    {
      "cell_type": "markdown",
      "metadata": {
        "id": "GQCTcUDdXW9X",
        "colab_type": "text"
      },
      "source": [
        "#CONCLUSION\n",
        "\n",
        "_RANDOM FOREST REGRESSOR_ is the best model for analysis giving an accuracy of 0.87 on prediction."
      ]
    },
    {
      "cell_type": "code",
      "metadata": {
        "id": "HAKWawx8qDZ5",
        "colab_type": "code",
        "colab": {}
      },
      "source": [
        ""
      ],
      "execution_count": 0,
      "outputs": []
    }
  ]
}